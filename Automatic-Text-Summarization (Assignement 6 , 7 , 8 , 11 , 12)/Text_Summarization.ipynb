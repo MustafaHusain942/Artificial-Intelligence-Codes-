{
 "cells": [
  {
   "cell_type": "markdown",
   "metadata": {
    "id": "TIMsr2fPxRCr"
   },
   "source": [
    "# Automatic Text Summarization "
   ]
  },
  {
   "cell_type": "markdown",
   "metadata": {
    "id": "GIJzKna_xU6t"
   },
   "source": [
    "**Import Libraries**"
   ]
  },
  {
   "cell_type": "code",
   "execution_count": 17,
   "metadata": {
    "colab": {
     "base_uri": "https://localhost:8080/"
    },
    "id": "Iw33Qd4NhWKY",
    "outputId": "32319385-2b34-4fe4-93ea-3987f9ee3922"
   },
   "outputs": [
    {
     "name": "stderr",
     "output_type": "stream",
     "text": [
      "[nltk_data] Downloading package punkt to C:\\Users\\Mustafa\n",
      "[nltk_data]     Husain\\AppData\\Roaming\\nltk_data...\n",
      "[nltk_data]   Package punkt is already up-to-date!\n",
      "[nltk_data] Downloading package stopwords to C:\\Users\\Mustafa\n",
      "[nltk_data]     Husain\\AppData\\Roaming\\nltk_data...\n",
      "[nltk_data]   Package stopwords is already up-to-date!\n"
     ]
    }
   ],
   "source": [
    "import bs4 as bs  # Import BeautifulSoup for parsing HTML/XML content\n",
    "import urllib.request as url  # Import urllib to fetch content from web URLs\n",
    "import re  # Import regular expressions module for text cleaning\n",
    "import nltk  # Import Natural Language Toolkit for NLP tasks\n",
    "import matplotlib.pyplot as plt  # Import pyplot from matplotlib for plotting graphs\n",
    "\n",
    "nltk.download('punkt')  # Download tokenizer models for sentence/word tokenization\n",
    "nltk.download('stopwords')  # Download list of common stopwords for filtering\n",
    "\n",
    "from nltk.tokenize import sent_tokenize, word_tokenize  # Import functions to split text into sentences and words\n",
    "from nltk.corpus import stopwords  # Import stopwords list from NLTK\n",
    "from nltk.probability import FreqDist  # Import class to calculate word frequency distribution\n",
    "import heapq  # Import heapq to extract top elements efficiently (e.g., top sentences)\n",
    "from string import punctuation  # Import list of punctuation symbols for text cleaning\n"
   ]
  },
  {
   "cell_type": "markdown",
   "metadata": {
    "id": "LxRFfoYHyPBR"
   },
   "source": [
    "**Fetch Articles from Wikipedia**"
   ]
  },
  {
   "cell_type": "code",
   "execution_count": 18,
   "metadata": {
    "id": "QqJGxDS5heba"
   },
   "outputs": [],
   "source": [
    "# web scrape Wikipedia article on Management Systems\n",
    "# and parse the content to extract text\n",
    "scraped_data = url.urlopen('https://en.wikipedia.org/wiki/Management_system')  # Open the URL and fetch HTML content from the Wikipedia page\n",
    "article = scraped_data.read()  # Read the raw HTML content from the response\n",
    "parsed_article = bs.BeautifulSoup(article, 'lxml')  # Parse the HTML content using the lxml parser\n",
    "paragraphs = parsed_article.find_all('p')  # Find all paragraph tags <p> in the parsed HTML\n",
    "\n",
    "article_text = \"\"  # Initialize an empty string to store the complete article text\n",
    "\n",
    "for p in paragraphs:\n",
    "    article_text += p.text  # Append the text content of each paragraph to the article_text\n"
   ]
  },
  {
   "cell_type": "code",
   "execution_count": 3,
   "metadata": {
    "colab": {
     "base_uri": "https://localhost:8080/",
     "height": 107
    },
    "id": "yOazmqJmhvC7",
    "outputId": "ec317d58-5001-4634-929a-f91bb65897d6"
   },
   "outputs": [
    {
     "data": {
      "text/plain": [
       "'A management system is a set of policies, processes and procedures used by an organization to ensure that it can fulfill the tasks required to achieve its objectives.[1] These objectives cover many aspects of the organization\\'s operations (including product quality, worker management, safe operation, client relationships, regulatory conformance and financial success). For instance, a quality management system enables organizations to improve their quality performance, an environmental management system enables organizations to improve their environmental performance, and an occupational health and safety management system enables organizations to improve their occupational health and safety performance, can be run in an integrated management system.\\nThe international standard ISO 9000:2015 (Title: Quality management systems - fundamentals and vocabulary) defines the term in chapter 3.5.3 as a \"set of interrelated or interacting elements of an organization to establish policies and objectives, and processes to achieve those objectives\".[2]\\nA simplification of the main aspects of a management system is the 4-element \"plan, do, check, act\" approach. A complete management system covers every aspect of management and focuses on supporting the performance management to achieve the objectives. The management system should be subject to continuous improvement as the organization learns.\\nExamples of management system standards include:\\n'"
      ]
     },
     "execution_count": 3,
     "metadata": {},
     "output_type": "execute_result"
    }
   ],
   "source": [
    "article_text"
   ]
  },
  {
   "cell_type": "markdown",
   "metadata": {
    "id": "YNebVP3YzLpT"
   },
   "source": [
    "**Text Preprocessing**"
   ]
  },
  {
   "cell_type": "code",
   "execution_count": 4,
   "metadata": {
    "id": "72Xs4os6ihWN"
   },
   "outputs": [],
   "source": [
    "# remove square brackets and extra spaces\n",
    "article_text = re.sub(r'\\[[0-9]*\\]', ' ', article_text)\n",
    "article_text = re.sub(r'\\s+', ' ', article_text)"
   ]
  },
  {
   "cell_type": "code",
   "execution_count": 5,
   "metadata": {
    "id": "OcR_-PLdijFk"
   },
   "outputs": [],
   "source": [
    "# remove special characters and digits\n",
    "formatted_article_text = re.sub('[^a-zA-Z]', ' ', article_text )\n",
    "formatted_article_text = re.sub(r'\\s+', ' ', formatted_article_text)"
   ]
  },
  {
   "cell_type": "markdown",
   "metadata": {
    "id": "cdfJfCnLzZHw"
   },
   "source": [
    "**Tokenize Sentences**"
   ]
  },
  {
   "cell_type": "code",
   "execution_count": 19,
   "metadata": {
    "id": "aLD1Mq1Jiyar"
   },
   "outputs": [],
   "source": [
    "sentence_list = nltk.sent_tokenize(article_text)  # Split the cleaned article text into a list of sentences using NLTK's sentence tokenizer\n"
   ]
  },
  {
   "cell_type": "markdown",
   "metadata": {
    "id": "VMLpE-qu0Doa"
   },
   "source": [
    "**Find Weighted Frequency of Occurrence**"
   ]
  },
  {
   "cell_type": "code",
   "execution_count": 21,
   "metadata": {
    "id": "2dgH3WKFjbdj"
   },
   "outputs": [],
   "source": [
    "stopwords = nltk.corpus.stopwords.words('english')  # Load a list of common English stopwords (like \"the\", \"is\", \"and\") from NLTK"
   ]
  },
  {
   "cell_type": "code",
   "execution_count": 22,
   "metadata": {
    "id": "kl83RUF4j-On"
   },
   "outputs": [],
   "source": [
    "word_frequencies = {}  # Initialize an empty dictionary to store word frequencies\n",
    "\n",
    "for word in nltk.word_tokenize(formatted_article_text):  # Tokenize the formatted article into individual words\n",
    "    if word not in stopwords and word not in punctuation:  # Ignore stopwords and punctuation\n",
    "        if word not in word_frequencies.keys():  # If the word is not already in the dictionary\n",
    "            word_frequencies[word] = 1  # Add it with a frequency of 1\n",
    "        else:\n",
    "            word_frequencies[word] += 1  # Otherwise, increment its existing frequency by 1\n"
   ]
  },
  {
   "cell_type": "code",
   "execution_count": 9,
   "metadata": {
    "colab": {
     "base_uri": "https://localhost:8080/"
    },
    "id": "0X-IlQaDpCe2",
    "outputId": "e49cc3dd-e259-4ed8-a1c3-288fd6e06909"
   },
   "outputs": [
    {
     "data": {
      "text/plain": [
       "{'A': 3,\n",
       " 'management': 13,\n",
       " 'system': 9,\n",
       " 'set': 2,\n",
       " 'policies': 2,\n",
       " 'processes': 2,\n",
       " 'procedures': 1,\n",
       " 'used': 1,\n",
       " 'organization': 4,\n",
       " 'ensure': 1,\n",
       " 'fulfill': 1,\n",
       " 'tasks': 1,\n",
       " 'required': 1,\n",
       " 'achieve': 3,\n",
       " 'objectives': 5,\n",
       " 'These': 1,\n",
       " 'cover': 1,\n",
       " 'many': 1,\n",
       " 'aspects': 2,\n",
       " 'operations': 1,\n",
       " 'including': 1,\n",
       " 'product': 1,\n",
       " 'quality': 3,\n",
       " 'worker': 1,\n",
       " 'safe': 1,\n",
       " 'operation': 1,\n",
       " 'client': 1,\n",
       " 'relationships': 1,\n",
       " 'regulatory': 1,\n",
       " 'conformance': 1,\n",
       " 'financial': 1,\n",
       " 'success': 1,\n",
       " 'For': 1,\n",
       " 'instance': 1,\n",
       " 'enables': 3,\n",
       " 'organizations': 3,\n",
       " 'improve': 3,\n",
       " 'performance': 4,\n",
       " 'environmental': 2,\n",
       " 'occupational': 2,\n",
       " 'health': 2,\n",
       " 'safety': 2,\n",
       " 'run': 1,\n",
       " 'integrated': 1,\n",
       " 'The': 2,\n",
       " 'international': 1,\n",
       " 'standard': 1,\n",
       " 'ISO': 1,\n",
       " 'Title': 1,\n",
       " 'Quality': 1,\n",
       " 'systems': 1,\n",
       " 'fundamentals': 1,\n",
       " 'vocabulary': 1,\n",
       " 'defines': 1,\n",
       " 'term': 1,\n",
       " 'chapter': 1,\n",
       " 'interrelated': 1,\n",
       " 'interacting': 1,\n",
       " 'elements': 1,\n",
       " 'establish': 1,\n",
       " 'simplification': 1,\n",
       " 'main': 1,\n",
       " 'element': 1,\n",
       " 'plan': 1,\n",
       " 'check': 1,\n",
       " 'act': 1,\n",
       " 'approach': 1,\n",
       " 'complete': 1,\n",
       " 'covers': 1,\n",
       " 'every': 1,\n",
       " 'aspect': 1,\n",
       " 'focuses': 1,\n",
       " 'supporting': 1,\n",
       " 'subject': 1,\n",
       " 'continuous': 1,\n",
       " 'improvement': 1,\n",
       " 'learns': 1,\n",
       " 'Examples': 1,\n",
       " 'standards': 1,\n",
       " 'include': 1}"
      ]
     },
     "execution_count": 9,
     "metadata": {},
     "output_type": "execute_result"
    }
   ],
   "source": [
    "word_frequencies"
   ]
  },
  {
   "cell_type": "code",
   "execution_count": 23,
   "metadata": {
    "id": "Efgx86zJpF6b"
   },
   "outputs": [],
   "source": [
    "maximum_frequncy = max(word_frequencies.values())  # Find the highest word frequency in the dictionary\n",
    "\n",
    "for word in word_frequencies.keys():\n",
    "    word_frequencies[word] = (word_frequencies[word] / maximum_frequncy)  # Normalize each word's frequency by dividing by the maximum\n"
   ]
  },
  {
   "cell_type": "code",
   "execution_count": 11,
   "metadata": {
    "colab": {
     "base_uri": "https://localhost:8080/"
    },
    "id": "lTEwJZ-mpRpb",
    "outputId": "24848bce-67b7-4b34-a0af-6be923d35861"
   },
   "outputs": [
    {
     "data": {
      "text/plain": [
       "{'A': 0.23076923076923078,\n",
       " 'management': 1.0,\n",
       " 'system': 0.6923076923076923,\n",
       " 'set': 0.15384615384615385,\n",
       " 'policies': 0.15384615384615385,\n",
       " 'processes': 0.15384615384615385,\n",
       " 'procedures': 0.07692307692307693,\n",
       " 'used': 0.07692307692307693,\n",
       " 'organization': 0.3076923076923077,\n",
       " 'ensure': 0.07692307692307693,\n",
       " 'fulfill': 0.07692307692307693,\n",
       " 'tasks': 0.07692307692307693,\n",
       " 'required': 0.07692307692307693,\n",
       " 'achieve': 0.23076923076923078,\n",
       " 'objectives': 0.38461538461538464,\n",
       " 'These': 0.07692307692307693,\n",
       " 'cover': 0.07692307692307693,\n",
       " 'many': 0.07692307692307693,\n",
       " 'aspects': 0.15384615384615385,\n",
       " 'operations': 0.07692307692307693,\n",
       " 'including': 0.07692307692307693,\n",
       " 'product': 0.07692307692307693,\n",
       " 'quality': 0.23076923076923078,\n",
       " 'worker': 0.07692307692307693,\n",
       " 'safe': 0.07692307692307693,\n",
       " 'operation': 0.07692307692307693,\n",
       " 'client': 0.07692307692307693,\n",
       " 'relationships': 0.07692307692307693,\n",
       " 'regulatory': 0.07692307692307693,\n",
       " 'conformance': 0.07692307692307693,\n",
       " 'financial': 0.07692307692307693,\n",
       " 'success': 0.07692307692307693,\n",
       " 'For': 0.07692307692307693,\n",
       " 'instance': 0.07692307692307693,\n",
       " 'enables': 0.23076923076923078,\n",
       " 'organizations': 0.23076923076923078,\n",
       " 'improve': 0.23076923076923078,\n",
       " 'performance': 0.3076923076923077,\n",
       " 'environmental': 0.15384615384615385,\n",
       " 'occupational': 0.15384615384615385,\n",
       " 'health': 0.15384615384615385,\n",
       " 'safety': 0.15384615384615385,\n",
       " 'run': 0.07692307692307693,\n",
       " 'integrated': 0.07692307692307693,\n",
       " 'The': 0.15384615384615385,\n",
       " 'international': 0.07692307692307693,\n",
       " 'standard': 0.07692307692307693,\n",
       " 'ISO': 0.07692307692307693,\n",
       " 'Title': 0.07692307692307693,\n",
       " 'Quality': 0.07692307692307693,\n",
       " 'systems': 0.07692307692307693,\n",
       " 'fundamentals': 0.07692307692307693,\n",
       " 'vocabulary': 0.07692307692307693,\n",
       " 'defines': 0.07692307692307693,\n",
       " 'term': 0.07692307692307693,\n",
       " 'chapter': 0.07692307692307693,\n",
       " 'interrelated': 0.07692307692307693,\n",
       " 'interacting': 0.07692307692307693,\n",
       " 'elements': 0.07692307692307693,\n",
       " 'establish': 0.07692307692307693,\n",
       " 'simplification': 0.07692307692307693,\n",
       " 'main': 0.07692307692307693,\n",
       " 'element': 0.07692307692307693,\n",
       " 'plan': 0.07692307692307693,\n",
       " 'check': 0.07692307692307693,\n",
       " 'act': 0.07692307692307693,\n",
       " 'approach': 0.07692307692307693,\n",
       " 'complete': 0.07692307692307693,\n",
       " 'covers': 0.07692307692307693,\n",
       " 'every': 0.07692307692307693,\n",
       " 'aspect': 0.07692307692307693,\n",
       " 'focuses': 0.07692307692307693,\n",
       " 'supporting': 0.07692307692307693,\n",
       " 'subject': 0.07692307692307693,\n",
       " 'continuous': 0.07692307692307693,\n",
       " 'improvement': 0.07692307692307693,\n",
       " 'learns': 0.07692307692307693,\n",
       " 'Examples': 0.07692307692307693,\n",
       " 'standards': 0.07692307692307693,\n",
       " 'include': 0.07692307692307693}"
      ]
     },
     "execution_count": 11,
     "metadata": {},
     "output_type": "execute_result"
    }
   ],
   "source": [
    "word_frequencies"
   ]
  },
  {
   "cell_type": "markdown",
   "metadata": {
    "id": "Ip5afGww06no"
   },
   "source": [
    "**Frequency Distribution**"
   ]
  },
  {
   "cell_type": "code",
   "execution_count": 12,
   "metadata": {
    "colab": {
     "base_uri": "https://localhost:8080/",
     "height": 342
    },
    "id": "GxvqKzwyqUwr",
    "outputId": "88418228-6bc7-4824-9462-4bfa98679122"
   },
   "outputs": [
    {
     "data": {
      "text/plain": [
       "<Axes: xlabel='Samples', ylabel='Counts'>"
      ]
     },
     "execution_count": 12,
     "metadata": {},
     "output_type": "execute_result"
    },
    {
     "data": {
      "image/png": "[encoded data removed]",
      "text/plain": [
       "<Figure size 640x480 with 1 Axes>"
      ]
     },
     "metadata": {},
     "output_type": "display_data"
    }
   ],
   "source": [
    "frequency_dist = nltk.FreqDist(word_frequencies)\n",
    "frequency_dist.plot(30)"
   ]
  },
  {
   "cell_type": "markdown",
   "metadata": {
    "id": "lI51xLyS03D3"
   },
   "source": [
    "**Calculate Sentence Scores**"
   ]
  },
  {
   "cell_type": "code",
   "execution_count": 24,
   "metadata": {
    "id": "v0xfD_y3j_aG"
   },
   "outputs": [],
   "source": [
    "sentence_scores = {}  # Initialize an empty dictionary to store sentence scores\n",
    "\n",
    "for sent in sentence_list:  # Iterate over each sentence in the list\n",
    "    for word in nltk.word_tokenize(sent.lower()):  # Tokenize the sentence into words (in lowercase)\n",
    "        if word in word_frequencies.keys():  # Check if the word is in the word frequency dictionary\n",
    "            if len(sent.split(' ')) < 30:  # Consider only sentences shorter than 30 words\n",
    "                if sent not in sentence_scores.keys():  # If the sentence is not already scored\n",
    "                    sentence_scores[sent] = word_frequencies[word]  # Initialize its score with the word’s frequency\n",
    "                else:\n",
    "                    sentence_scores[sent] += word_frequencies[word]  # Add the word’s frequency to the existing sentence score\n"
   ]
  },
  {
   "cell_type": "code",
   "execution_count": 25,
   "metadata": {
    "colab": {
     "base_uri": "https://localhost:8080/"
    },
    "id": "EznHCyJkpglL",
    "outputId": "685874ed-30b8-4117-90db-584770fc8ad7"
   },
   "outputs": [
    {
     "data": {
      "text/plain": [
       "{'A management system is a set of policies, processes and procedures used by an organization to ensure that it can fulfill the tasks required to achieve its objectives.': 3.5384615384615397,\n",
       " \"[1] These objectives cover many aspects of the organization's operations (including product quality, worker management, safe operation, client relationships, regulatory conformance and financial success).\": 3.153846153846155,\n",
       " '[2]\\nA simplification of the main aspects of a management system is the 4-element \"plan, do, check, act\" approach.': 2.3076923076923084,\n",
       " 'A complete management system covers every aspect of management and focuses on supporting the performance management to achieve the objectives.': 5.0769230769230775,\n",
       " 'The management system should be subject to continuous improvement as the organization learns.': 2.307692307692308,\n",
       " 'Examples of management system standards include:': 1.846153846153846}"
      ]
     },
     "execution_count": 25,
     "metadata": {},
     "output_type": "execute_result"
    }
   ],
   "source": [
    "sentence_scores"
   ]
  },
  {
   "cell_type": "markdown",
   "metadata": {
    "id": "FtT4HuGw1vK3"
   },
   "source": [
    "**Extract Output Summary**"
   ]
  },
  {
   "cell_type": "code",
   "execution_count": 30,
   "metadata": {
    "colab": {
     "base_uri": "https://localhost:8080/",
     "height": 119
    },
    "id": "HD05VC7_kUis",
    "outputId": "af9f2ba9-9ba6-45ec-f273-4f915e265276"
   },
   "outputs": [
    {
     "data": {
      "text/plain": [
       "'A management system is a set of policies, processes and procedures used by an organization to ensure that it can fulfill the tasks required to achieve its objectives. These objectives cover many aspects of the organization\\'s operations (including product quality, worker management, safe operation, client relationships, regulatory conformance and financial success). For instance, a quality management system enables organizations to improve their quality performance, an environmental management system enables organizations to improve their environmental performance, and an occupational health and safety management system enables organizations to improve their occupational health and safety performance, can be run in an integrated management system. A simplification of the main aspects of a management system is the 4-element \"plan, do, check, act\" approach. A complete management system covers every aspect of management and focuses on supporting the performance management to achieve the objectives. The management system should be subject to continuous improvement as the organization learns. Examples of management system standards include:'"
      ]
     },
     "execution_count": 30,
     "metadata": {},
     "output_type": "execute_result"
    }
   ],
   "source": [
    "summary"
   ]
  }
 ],
 "metadata": {
  "colab": {
   "collapsed_sections": [],
   "name": "Text_Summarization.ipynb",
   "provenance": []
  },
  "kernelspec": {
   "display_name": "Python 3",
   "name": "python3"
  },
  "language_info": {
   "codemirror_mode": {
    "name": "ipython",
    "version": 3
   },
   "file_extension": ".py",
   "mimetype": "text/x-python",
   "name": "python",
   "nbconvert_exporter": "python",
   "pygments_lexer": "ipython3",
   "version": "3.11.0"
  }
 },
 "nbformat": 4,
 "nbformat_minor": 0
}
